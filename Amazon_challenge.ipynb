{
 "cells": [
  {
   "cell_type": "markdown",
   "metadata": {},
   "source": [
    "For this exercise, you will analyze a dataset from Amazon. "
   ]
  },
  {
   "cell_type": "markdown",
   "metadata": {},
   "source": [
    "**A. (Suggested duration: 90 mins)**\n",
    "With the given data for 548552 products, perform exploratory analysis and make\n",
    "suggestions for further analysis on the following aspects. \n",
    "1. Trustworthiness of ratings\n",
    "Ratings are susceptible to manipulation, bias etc. What can you say (quantitatively\n",
    "speaking) about the ratings in this dataset?\n",
    "2. Category bloat\n",
    "Consider the product group named 'Books'. Each product in this group is associated with\n",
    "categories. Naturally, with categorization, there are tradeoffs between how broad or\n",
    "specific the categories must be.\n",
    "For this dataset, quantify the following:\n",
    "a. Is there redundancy in the categorization? How can it be identified/removed?\n",
    "b. Is is possible to reduce the number of categories drastically (say to 10% of existing\n",
    "categories) by sacrificing relatively few category entries (say close to 10%)?"
   ]
  },
  {
   "cell_type": "code",
   "execution_count": 25,
   "metadata": {
    "collapsed": true
   },
   "outputs": [],
   "source": [
    "import pandas as pd\n",
    "import numpy as np\n",
    "import matplotlib.pyplot as plt\n",
    "% matplotlib inline"
   ]
  },
  {
   "cell_type": "code",
   "execution_count": 26,
   "metadata": {},
   "outputs": [],
   "source": [
    "prod_reviews = {'id': [], 'asin': [], 'date': [], 'customer': [], 'rating': [], 'num_votes': [], 'helpfulness':[]}\n",
    "\n",
    "with open('amazon-meta.txt', 'r', encoding='utf-8') as f:\n",
    "    for line in f:\n",
    "        if line.startswith('Id'):\n",
    "            Id = line.split()[1]\n",
    "        elif line.startswith('ASIN'):\n",
    "            ASIN = line.split()[1]\n",
    "        elif line.startswith('    '):\n",
    "            review = line.split()\n",
    "            prod_reviews['id'].append(int(Id))\n",
    "            prod_reviews['asin'].append(ASIN)\n",
    "            prod_reviews['date'].append(review[0])\n",
    "            prod_reviews['customer'].append(review[2])\n",
    "            prod_reviews['rating'].append(int(review[4]))\n",
    "            prod_reviews['num_votes'].append(int(review[6]))\n",
    "            prod_reviews['helpfulness'].append(int(review[8]))\n",
    "\n",
    "df = pd.DataFrame.from_dict(prod_reviews)\n",
    "df['date'] = pd.to_datetime(df['date'])"
   ]
  },
  {
   "cell_type": "code",
   "execution_count": 27,
   "metadata": {},
   "outputs": [
    {
     "data": {
      "text/html": [
       "<div>\n",
       "<style>\n",
       "    .dataframe thead tr:only-child th {\n",
       "        text-align: right;\n",
       "    }\n",
       "\n",
       "    .dataframe thead th {\n",
       "        text-align: left;\n",
       "    }\n",
       "\n",
       "    .dataframe tbody tr th {\n",
       "        vertical-align: top;\n",
       "    }\n",
       "</style>\n",
       "<table border=\"1\" class=\"dataframe\">\n",
       "  <thead>\n",
       "    <tr style=\"text-align: right;\">\n",
       "      <th></th>\n",
       "      <th>asin</th>\n",
       "      <th>customer</th>\n",
       "      <th>date</th>\n",
       "      <th>helpfulness</th>\n",
       "      <th>id</th>\n",
       "      <th>num_votes</th>\n",
       "      <th>rating</th>\n",
       "    </tr>\n",
       "  </thead>\n",
       "  <tbody>\n",
       "    <tr>\n",
       "      <th>0</th>\n",
       "      <td>0827229534</td>\n",
       "      <td>A2JW67OY8U6HHK</td>\n",
       "      <td>2000-07-28</td>\n",
       "      <td>9</td>\n",
       "      <td>1</td>\n",
       "      <td>10</td>\n",
       "      <td>5</td>\n",
       "    </tr>\n",
       "    <tr>\n",
       "      <th>1</th>\n",
       "      <td>0827229534</td>\n",
       "      <td>A2VE83MZF98ITY</td>\n",
       "      <td>2003-12-14</td>\n",
       "      <td>5</td>\n",
       "      <td>1</td>\n",
       "      <td>6</td>\n",
       "      <td>5</td>\n",
       "    </tr>\n",
       "    <tr>\n",
       "      <th>2</th>\n",
       "      <td>0738700797</td>\n",
       "      <td>A11NCO6YTE4BTJ</td>\n",
       "      <td>2001-12-16</td>\n",
       "      <td>4</td>\n",
       "      <td>2</td>\n",
       "      <td>5</td>\n",
       "      <td>5</td>\n",
       "    </tr>\n",
       "    <tr>\n",
       "      <th>3</th>\n",
       "      <td>0738700797</td>\n",
       "      <td>A9CQ3PLRNIR83</td>\n",
       "      <td>2002-01-07</td>\n",
       "      <td>5</td>\n",
       "      <td>2</td>\n",
       "      <td>5</td>\n",
       "      <td>4</td>\n",
       "    </tr>\n",
       "    <tr>\n",
       "      <th>4</th>\n",
       "      <td>0738700797</td>\n",
       "      <td>A13SG9ACZ9O5IM</td>\n",
       "      <td>2002-01-24</td>\n",
       "      <td>8</td>\n",
       "      <td>2</td>\n",
       "      <td>8</td>\n",
       "      <td>5</td>\n",
       "    </tr>\n",
       "  </tbody>\n",
       "</table>\n",
       "</div>"
      ],
      "text/plain": [
       "         asin        customer       date  helpfulness  id  num_votes  rating\n",
       "0  0827229534  A2JW67OY8U6HHK 2000-07-28            9   1         10       5\n",
       "1  0827229534  A2VE83MZF98ITY 2003-12-14            5   1          6       5\n",
       "2  0738700797  A11NCO6YTE4BTJ 2001-12-16            4   2          5       5\n",
       "3  0738700797   A9CQ3PLRNIR83 2002-01-07            5   2          5       4\n",
       "4  0738700797  A13SG9ACZ9O5IM 2002-01-24            8   2          8       5"
      ]
     },
     "execution_count": 27,
     "metadata": {},
     "output_type": "execute_result"
    }
   ],
   "source": [
    "df.head()"
   ]
  },
  {
   "cell_type": "code",
   "execution_count": 37,
   "metadata": {},
   "outputs": [
    {
     "data": {
      "text/html": [
       "<div>\n",
       "<style>\n",
       "    .dataframe thead tr:only-child th {\n",
       "        text-align: right;\n",
       "    }\n",
       "\n",
       "    .dataframe thead th {\n",
       "        text-align: left;\n",
       "    }\n",
       "\n",
       "    .dataframe tbody tr th {\n",
       "        vertical-align: top;\n",
       "    }\n",
       "</style>\n",
       "<table border=\"1\" class=\"dataframe\">\n",
       "  <thead>\n",
       "    <tr style=\"text-align: right;\">\n",
       "      <th></th>\n",
       "      <th>asin</th>\n",
       "      <th>size</th>\n",
       "      <th>amin</th>\n",
       "      <th>amax</th>\n",
       "      <th>mean</th>\n",
       "    </tr>\n",
       "  </thead>\n",
       "  <tbody>\n",
       "    <tr>\n",
       "      <th>0</th>\n",
       "      <td>043935806X</td>\n",
       "      <td>4995</td>\n",
       "      <td>1</td>\n",
       "      <td>5</td>\n",
       "      <td>4.366366</td>\n",
       "    </tr>\n",
       "    <tr>\n",
       "      <th>1</th>\n",
       "      <td>0786222727</td>\n",
       "      <td>4995</td>\n",
       "      <td>1</td>\n",
       "      <td>5</td>\n",
       "      <td>4.769169</td>\n",
       "    </tr>\n",
       "    <tr>\n",
       "      <th>2</th>\n",
       "      <td>0807220280</td>\n",
       "      <td>4995</td>\n",
       "      <td>1</td>\n",
       "      <td>5</td>\n",
       "      <td>4.369770</td>\n",
       "    </tr>\n",
       "    <tr>\n",
       "      <th>3</th>\n",
       "      <td>0807281956</td>\n",
       "      <td>4995</td>\n",
       "      <td>1</td>\n",
       "      <td>5</td>\n",
       "      <td>4.762563</td>\n",
       "    </tr>\n",
       "    <tr>\n",
       "      <th>4</th>\n",
       "      <td>0590353403</td>\n",
       "      <td>4995</td>\n",
       "      <td>1</td>\n",
       "      <td>5</td>\n",
       "      <td>4.765766</td>\n",
       "    </tr>\n",
       "  </tbody>\n",
       "</table>\n",
       "</div>"
      ],
      "text/plain": [
       "         asin  size  amin  amax      mean\n",
       "0  043935806X  4995     1     5  4.366366\n",
       "1  0786222727  4995     1     5  4.769169\n",
       "2  0807220280  4995     1     5  4.369770\n",
       "3  0807281956  4995     1     5  4.762563\n",
       "4  0590353403  4995     1     5  4.765766"
      ]
     },
     "execution_count": 37,
     "metadata": {},
     "output_type": "execute_result"
    }
   ],
   "source": [
    "df_asin=df.groupby('asin')['rating'].agg([np.size, np.min, np.max, np.mean]).sort_values(by='size', ascending=False).reset_index()\n",
    "df_asin.head()"
   ]
  },
  {
   "cell_type": "code",
   "execution_count": 57,
   "metadata": {},
   "outputs": [
    {
     "data": {
      "text/html": [
       "<div>\n",
       "<style>\n",
       "    .dataframe thead tr:only-child th {\n",
       "        text-align: right;\n",
       "    }\n",
       "\n",
       "    .dataframe thead th {\n",
       "        text-align: left;\n",
       "    }\n",
       "\n",
       "    .dataframe tbody tr th {\n",
       "        vertical-align: top;\n",
       "    }\n",
       "</style>\n",
       "<table border=\"1\" class=\"dataframe\">\n",
       "  <thead>\n",
       "    <tr style=\"text-align: right;\">\n",
       "      <th></th>\n",
       "      <th>asin</th>\n",
       "      <th>size</th>\n",
       "    </tr>\n",
       "  </thead>\n",
       "  <tbody>\n",
       "    <tr>\n",
       "      <th>1</th>\n",
       "      <td>0786222727</td>\n",
       "      <td>4995</td>\n",
       "    </tr>\n",
       "    <tr>\n",
       "      <th>3</th>\n",
       "      <td>0807281956</td>\n",
       "      <td>4995</td>\n",
       "    </tr>\n",
       "    <tr>\n",
       "      <th>4</th>\n",
       "      <td>0590353403</td>\n",
       "      <td>4995</td>\n",
       "    </tr>\n",
       "    <tr>\n",
       "      <th>5</th>\n",
       "      <td>0939173344</td>\n",
       "      <td>4995</td>\n",
       "    </tr>\n",
       "    <tr>\n",
       "      <th>6</th>\n",
       "      <td>043936213X</td>\n",
       "      <td>4995</td>\n",
       "    </tr>\n",
       "    <tr>\n",
       "      <th>7</th>\n",
       "      <td>0807281751</td>\n",
       "      <td>4995</td>\n",
       "    </tr>\n",
       "    <tr>\n",
       "      <th>8</th>\n",
       "      <td>0807286001</td>\n",
       "      <td>4995</td>\n",
       "    </tr>\n",
       "    <tr>\n",
       "      <th>11</th>\n",
       "      <td>0786229276</td>\n",
       "      <td>4924</td>\n",
       "    </tr>\n",
       "    <tr>\n",
       "      <th>12</th>\n",
       "      <td>0439139597</td>\n",
       "      <td>4924</td>\n",
       "    </tr>\n",
       "    <tr>\n",
       "      <th>13</th>\n",
       "      <td>0807282588</td>\n",
       "      <td>4924</td>\n",
       "    </tr>\n",
       "    <tr>\n",
       "      <th>14</th>\n",
       "      <td>0439139600</td>\n",
       "      <td>4924</td>\n",
       "    </tr>\n",
       "    <tr>\n",
       "      <th>15</th>\n",
       "      <td>0939173379</td>\n",
       "      <td>4921</td>\n",
       "    </tr>\n",
       "    <tr>\n",
       "      <th>16</th>\n",
       "      <td>0807282596</td>\n",
       "      <td>4919</td>\n",
       "    </tr>\n",
       "  </tbody>\n",
       "</table>\n",
       "</div>"
      ],
      "text/plain": [
       "          asin  size\n",
       "1   0786222727  4995\n",
       "3   0807281956  4995\n",
       "4   0590353403  4995\n",
       "5   0939173344  4995\n",
       "6   043936213X  4995\n",
       "7   0807281751  4995\n",
       "8   0807286001  4995\n",
       "11  0786229276  4924\n",
       "12  0439139597  4924\n",
       "13  0807282588  4924\n",
       "14  0439139600  4924\n",
       "15  0939173379  4921\n",
       "16  0807282596  4919"
      ]
     },
     "execution_count": 57,
     "metadata": {},
     "output_type": "execute_result"
    }
   ],
   "source": [
    "df_asin[(df_asin['size'] > 4500) & (df_asin['mean'] > 4.5)][['asin','size']]"
   ]
  },
  {
   "cell_type": "code",
   "execution_count": 61,
   "metadata": {},
   "outputs": [
    {
     "data": {
      "text/html": [
       "<div>\n",
       "<style>\n",
       "    .dataframe thead tr:only-child th {\n",
       "        text-align: right;\n",
       "    }\n",
       "\n",
       "    .dataframe thead th {\n",
       "        text-align: left;\n",
       "    }\n",
       "\n",
       "    .dataframe tbody tr th {\n",
       "        vertical-align: top;\n",
       "    }\n",
       "</style>\n",
       "<table border=\"1\" class=\"dataframe\">\n",
       "  <thead>\n",
       "    <tr style=\"text-align: right;\">\n",
       "      <th></th>\n",
       "      <th>asin</th>\n",
       "      <th>size</th>\n",
       "    </tr>\n",
       "  </thead>\n",
       "  <tbody>\n",
       "    <tr>\n",
       "      <th>0</th>\n",
       "      <td>043935806X</td>\n",
       "      <td>4995</td>\n",
       "    </tr>\n",
       "    <tr>\n",
       "      <th>2</th>\n",
       "      <td>0807220280</td>\n",
       "      <td>4995</td>\n",
       "    </tr>\n",
       "    <tr>\n",
       "      <th>9</th>\n",
       "      <td>0807220299</td>\n",
       "      <td>4995</td>\n",
       "    </tr>\n",
       "    <tr>\n",
       "      <th>10</th>\n",
       "      <td>0439567629</td>\n",
       "      <td>4995</td>\n",
       "    </tr>\n",
       "  </tbody>\n",
       "</table>\n",
       "</div>"
      ],
      "text/plain": [
       "          asin  size\n",
       "0   043935806X  4995\n",
       "2   0807220280  4995\n",
       "9   0807220299  4995\n",
       "10  0439567629  4995"
      ]
     },
     "execution_count": 61,
     "metadata": {},
     "output_type": "execute_result"
    }
   ],
   "source": [
    "df_asin[(df_asin['size'] > 4500) & (df_asin['mean'] < 4.5)][['asin','size']]"
   ]
  },
  {
   "cell_type": "code",
   "execution_count": 77,
   "metadata": {},
   "outputs": [
    {
     "data": {
      "text/plain": [
       "<matplotlib.axes._subplots.AxesSubplot at 0x2fc8dda20>"
      ]
     },
     "execution_count": 77,
     "metadata": {},
     "output_type": "execute_result"
    },
    {
     "data": {
      "image/png": "[encoded data removed]",
      "text/plain": [
       "<matplotlib.figure.Figure at 0x2f173f940>"
      ]
     },
     "metadata": {},
     "output_type": "display_data"
    }
   ],
   "source": [
    "df_asin.plot(x='mean',y='size',kind='scatter')"
   ]
  },
  {
   "cell_type": "markdown",
   "metadata": {},
   "source": [
    "The bigger the size of the reviews, the more scattered the reviews are."
   ]
  },
  {
   "cell_type": "markdown",
   "metadata": {},
   "source": [
    "Some people may tend to review negatively/postively at any product. "
   ]
  },
  {
   "cell_type": "code",
   "execution_count": 29,
   "metadata": {},
   "outputs": [
    {
     "data": {
      "text/html": [
       "<div>\n",
       "<style>\n",
       "    .dataframe thead tr:only-child th {\n",
       "        text-align: right;\n",
       "    }\n",
       "\n",
       "    .dataframe thead th {\n",
       "        text-align: left;\n",
       "    }\n",
       "\n",
       "    .dataframe tbody tr th {\n",
       "        vertical-align: top;\n",
       "    }\n",
       "</style>\n",
       "<table border=\"1\" class=\"dataframe\">\n",
       "  <thead>\n",
       "    <tr style=\"text-align: right;\">\n",
       "      <th></th>\n",
       "      <th>customer</th>\n",
       "      <th>date</th>\n",
       "      <th>size</th>\n",
       "      <th>amin</th>\n",
       "      <th>amax</th>\n",
       "      <th>mean</th>\n",
       "    </tr>\n",
       "  </thead>\n",
       "  <tbody>\n",
       "    <tr>\n",
       "      <th>0</th>\n",
       "      <td>ATVPDKIKX0DER</td>\n",
       "      <td>1998-08-22</td>\n",
       "      <td>4981</td>\n",
       "      <td>1</td>\n",
       "      <td>5</td>\n",
       "      <td>4.351737</td>\n",
       "    </tr>\n",
       "    <tr>\n",
       "      <th>1</th>\n",
       "      <td>ATVPDKIKX0DER</td>\n",
       "      <td>1999-11-08</td>\n",
       "      <td>2837</td>\n",
       "      <td>1</td>\n",
       "      <td>5</td>\n",
       "      <td>4.326049</td>\n",
       "    </tr>\n",
       "    <tr>\n",
       "      <th>2</th>\n",
       "      <td>ATVPDKIKX0DER</td>\n",
       "      <td>1999-11-16</td>\n",
       "      <td>2650</td>\n",
       "      <td>1</td>\n",
       "      <td>5</td>\n",
       "      <td>4.336981</td>\n",
       "    </tr>\n",
       "    <tr>\n",
       "      <th>3</th>\n",
       "      <td>ATVPDKIKX0DER</td>\n",
       "      <td>1999-11-03</td>\n",
       "      <td>2616</td>\n",
       "      <td>1</td>\n",
       "      <td>5</td>\n",
       "      <td>4.247706</td>\n",
       "    </tr>\n",
       "    <tr>\n",
       "      <th>4</th>\n",
       "      <td>ATVPDKIKX0DER</td>\n",
       "      <td>1999-11-02</td>\n",
       "      <td>2575</td>\n",
       "      <td>1</td>\n",
       "      <td>5</td>\n",
       "      <td>4.316505</td>\n",
       "    </tr>\n",
       "    <tr>\n",
       "      <th>5</th>\n",
       "      <td>ATVPDKIKX0DER</td>\n",
       "      <td>1999-06-29</td>\n",
       "      <td>2528</td>\n",
       "      <td>1</td>\n",
       "      <td>5</td>\n",
       "      <td>4.312104</td>\n",
       "    </tr>\n",
       "    <tr>\n",
       "      <th>6</th>\n",
       "      <td>ATVPDKIKX0DER</td>\n",
       "      <td>1999-04-14</td>\n",
       "      <td>2521</td>\n",
       "      <td>1</td>\n",
       "      <td>5</td>\n",
       "      <td>4.196747</td>\n",
       "    </tr>\n",
       "    <tr>\n",
       "      <th>7</th>\n",
       "      <td>ATVPDKIKX0DER</td>\n",
       "      <td>1999-11-04</td>\n",
       "      <td>2459</td>\n",
       "      <td>1</td>\n",
       "      <td>5</td>\n",
       "      <td>4.311509</td>\n",
       "    </tr>\n",
       "    <tr>\n",
       "      <th>8</th>\n",
       "      <td>ATVPDKIKX0DER</td>\n",
       "      <td>1999-07-06</td>\n",
       "      <td>2449</td>\n",
       "      <td>1</td>\n",
       "      <td>5</td>\n",
       "      <td>4.319314</td>\n",
       "    </tr>\n",
       "    <tr>\n",
       "      <th>9</th>\n",
       "      <td>ATVPDKIKX0DER</td>\n",
       "      <td>1999-10-24</td>\n",
       "      <td>2448</td>\n",
       "      <td>1</td>\n",
       "      <td>5</td>\n",
       "      <td>4.161765</td>\n",
       "    </tr>\n",
       "  </tbody>\n",
       "</table>\n",
       "</div>"
      ],
      "text/plain": [
       "        customer       date  size  amin  amax      mean\n",
       "0  ATVPDKIKX0DER 1998-08-22  4981     1     5  4.351737\n",
       "1  ATVPDKIKX0DER 1999-11-08  2837     1     5  4.326049\n",
       "2  ATVPDKIKX0DER 1999-11-16  2650     1     5  4.336981\n",
       "3  ATVPDKIKX0DER 1999-11-03  2616     1     5  4.247706\n",
       "4  ATVPDKIKX0DER 1999-11-02  2575     1     5  4.316505\n",
       "5  ATVPDKIKX0DER 1999-06-29  2528     1     5  4.312104\n",
       "6  ATVPDKIKX0DER 1999-04-14  2521     1     5  4.196747\n",
       "7  ATVPDKIKX0DER 1999-11-04  2459     1     5  4.311509\n",
       "8  ATVPDKIKX0DER 1999-07-06  2449     1     5  4.319314\n",
       "9  ATVPDKIKX0DER 1999-10-24  2448     1     5  4.161765"
      ]
     },
     "execution_count": 29,
     "metadata": {},
     "output_type": "execute_result"
    }
   ],
   "source": [
    "df_customer = df.groupby(['customer', 'date'])['rating'].agg([np.size, np.min, np.max, np.mean]).sort_values(by='size', ascending=False).reset_index()\n",
    "df_customer.head(10)"
   ]
  },
  {
   "cell_type": "markdown",
   "metadata": {},
   "source": [
    "One customer tops the size of reviewing thousands in a single data - that is not possible - and there is possibly some manipulation here!"
   ]
  },
  {
   "cell_type": "code",
   "execution_count": 30,
   "metadata": {},
   "outputs": [
    {
     "data": {
      "text/plain": [
       "rating\n",
       "1     62922\n",
       "2     37265\n",
       "3     54623\n",
       "4    134061\n",
       "5    656194\n",
       "dtype: int64"
      ]
     },
     "execution_count": 30,
     "metadata": {},
     "output_type": "execute_result"
    }
   ],
   "source": [
    "df[df.customer=='ATVPDKIKX0DER'].groupby(['rating' ]).size()"
   ]
  },
  {
   "cell_type": "code",
   "execution_count": 20,
   "metadata": {},
   "outputs": [
    {
     "data": {
      "text/plain": [
       "<matplotlib.axes._subplots.AxesSubplot at 0x1094302b0>"
      ]
     },
     "execution_count": 20,
     "metadata": {},
     "output_type": "execute_result"
    },
    {
     "data": {
      "image/png": "[encoded data removed]",
      "text/plain": [
       "<matplotlib.figure.Figure at 0x195abb160>"
      ]
     },
     "metadata": {},
     "output_type": "display_data"
    }
   ],
   "source": [
    "df_customer.loc[df.customer=='ATVPDKIKX0DER'].sort_values('date').plot(x='date', y='size')"
   ]
  },
  {
   "cell_type": "code",
   "execution_count": 32,
   "metadata": {},
   "outputs": [
    {
     "data": {
      "text/html": [
       "<div>\n",
       "<style>\n",
       "    .dataframe thead tr:only-child th {\n",
       "        text-align: right;\n",
       "    }\n",
       "\n",
       "    .dataframe thead th {\n",
       "        text-align: left;\n",
       "    }\n",
       "\n",
       "    .dataframe tbody tr th {\n",
       "        vertical-align: top;\n",
       "    }\n",
       "</style>\n",
       "<table border=\"1\" class=\"dataframe\">\n",
       "  <thead>\n",
       "    <tr style=\"text-align: right;\">\n",
       "      <th></th>\n",
       "      <th>customer</th>\n",
       "      <th>date</th>\n",
       "      <th>size</th>\n",
       "      <th>amin</th>\n",
       "      <th>amax</th>\n",
       "      <th>mean</th>\n",
       "    </tr>\n",
       "  </thead>\n",
       "  <tbody>\n",
       "    <tr>\n",
       "      <th>0</th>\n",
       "      <td>A27DL4HTOE74Y8</td>\n",
       "      <td>2003-05-07</td>\n",
       "      <td>1</td>\n",
       "      <td>1</td>\n",
       "      <td>1</td>\n",
       "      <td>1.0</td>\n",
       "    </tr>\n",
       "    <tr>\n",
       "      <th>1</th>\n",
       "      <td>A19FB2D3QTIOBH</td>\n",
       "      <td>2003-11-27</td>\n",
       "      <td>1</td>\n",
       "      <td>1</td>\n",
       "      <td>1</td>\n",
       "      <td>1.0</td>\n",
       "    </tr>\n",
       "    <tr>\n",
       "      <th>2</th>\n",
       "      <td>A28Y3135130ESJ</td>\n",
       "      <td>1999-08-31</td>\n",
       "      <td>1</td>\n",
       "      <td>1</td>\n",
       "      <td>1</td>\n",
       "      <td>1.0</td>\n",
       "    </tr>\n",
       "    <tr>\n",
       "      <th>3</th>\n",
       "      <td>A28Y2QSO5HYXC2</td>\n",
       "      <td>2004-02-15</td>\n",
       "      <td>1</td>\n",
       "      <td>1</td>\n",
       "      <td>1</td>\n",
       "      <td>1.0</td>\n",
       "    </tr>\n",
       "    <tr>\n",
       "      <th>4</th>\n",
       "      <td>A28Y0U9K6BD8OZ</td>\n",
       "      <td>2000-02-21</td>\n",
       "      <td>1</td>\n",
       "      <td>1</td>\n",
       "      <td>1</td>\n",
       "      <td>1.0</td>\n",
       "    </tr>\n",
       "    <tr>\n",
       "      <th>5</th>\n",
       "      <td>A28XZNSLZ7E79U</td>\n",
       "      <td>2004-04-21</td>\n",
       "      <td>3</td>\n",
       "      <td>1</td>\n",
       "      <td>1</td>\n",
       "      <td>1.0</td>\n",
       "    </tr>\n",
       "    <tr>\n",
       "      <th>6</th>\n",
       "      <td>A28XZMNN72SW5W</td>\n",
       "      <td>2001-08-05</td>\n",
       "      <td>2</td>\n",
       "      <td>1</td>\n",
       "      <td>1</td>\n",
       "      <td>1.0</td>\n",
       "    </tr>\n",
       "    <tr>\n",
       "      <th>7</th>\n",
       "      <td>AA6QOYAZKEEZQ</td>\n",
       "      <td>2002-03-26</td>\n",
       "      <td>1</td>\n",
       "      <td>1</td>\n",
       "      <td>1</td>\n",
       "      <td>1.0</td>\n",
       "    </tr>\n",
       "    <tr>\n",
       "      <th>8</th>\n",
       "      <td>A28XYSVJV8BY6C</td>\n",
       "      <td>2003-12-14</td>\n",
       "      <td>1</td>\n",
       "      <td>1</td>\n",
       "      <td>1</td>\n",
       "      <td>1.0</td>\n",
       "    </tr>\n",
       "    <tr>\n",
       "      <th>9</th>\n",
       "      <td>AA6RF8VTJQ1QU</td>\n",
       "      <td>2000-12-10</td>\n",
       "      <td>2</td>\n",
       "      <td>1</td>\n",
       "      <td>1</td>\n",
       "      <td>1.0</td>\n",
       "    </tr>\n",
       "  </tbody>\n",
       "</table>\n",
       "</div>"
      ],
      "text/plain": [
       "         customer       date  size  amin  amax  mean\n",
       "0  A27DL4HTOE74Y8 2003-05-07     1     1     1   1.0\n",
       "1  A19FB2D3QTIOBH 2003-11-27     1     1     1   1.0\n",
       "2  A28Y3135130ESJ 1999-08-31     1     1     1   1.0\n",
       "3  A28Y2QSO5HYXC2 2004-02-15     1     1     1   1.0\n",
       "4  A28Y0U9K6BD8OZ 2000-02-21     1     1     1   1.0\n",
       "5  A28XZNSLZ7E79U 2004-04-21     3     1     1   1.0\n",
       "6  A28XZMNN72SW5W 2001-08-05     2     1     1   1.0\n",
       "7   AA6QOYAZKEEZQ 2002-03-26     1     1     1   1.0\n",
       "8  A28XYSVJV8BY6C 2003-12-14     1     1     1   1.0\n",
       "9   AA6RF8VTJQ1QU 2000-12-10     2     1     1   1.0"
      ]
     },
     "execution_count": 32,
     "metadata": {},
     "output_type": "execute_result"
    }
   ],
   "source": [
    "df_customer = df.groupby(['customer', 'date'])['rating'].agg([np.size, np.min, np.max, np.mean]).sort_values(by='mean', ascending=True).reset_index()\n",
    "df_customer.head(10)"
   ]
  },
  {
   "cell_type": "markdown",
   "metadata": {},
   "source": [
    "**Category Bloat**"
   ]
  },
  {
   "cell_type": "code",
   "execution_count": 82,
   "metadata": {},
   "outputs": [
    {
     "data": {
      "text/html": [
       "<div>\n",
       "<style>\n",
       "    .dataframe thead tr:only-child th {\n",
       "        text-align: right;\n",
       "    }\n",
       "\n",
       "    .dataframe thead th {\n",
       "        text-align: left;\n",
       "    }\n",
       "\n",
       "    .dataframe tbody tr th {\n",
       "        vertical-align: top;\n",
       "    }\n",
       "</style>\n",
       "<table border=\"1\" class=\"dataframe\">\n",
       "  <thead>\n",
       "    <tr style=\"text-align: right;\">\n",
       "      <th></th>\n",
       "      <th>category</th>\n",
       "      <th>category_depth</th>\n",
       "      <th>id</th>\n",
       "      <th>title</th>\n",
       "    </tr>\n",
       "  </thead>\n",
       "  <tbody>\n",
       "    <tr>\n",
       "      <th>0</th>\n",
       "      <td>|Books[283155]|Subjects[1000]|Religion &amp; Sp...</td>\n",
       "      <td>6</td>\n",
       "      <td>1</td>\n",
       "      <td>Patterns of Preaching: A Sermon Sampler</td>\n",
       "    </tr>\n",
       "    <tr>\n",
       "      <th>1</th>\n",
       "      <td>|Books[283155]|Subjects[1000]|Religion &amp; Sp...</td>\n",
       "      <td>6</td>\n",
       "      <td>1</td>\n",
       "      <td>Patterns of Preaching: A Sermon Sampler</td>\n",
       "    </tr>\n",
       "    <tr>\n",
       "      <th>2</th>\n",
       "      <td>|Books[283155]|Subjects[1000]|Religion &amp; Sp...</td>\n",
       "      <td>5</td>\n",
       "      <td>2</td>\n",
       "      <td>Candlemas: Feast of Flames</td>\n",
       "    </tr>\n",
       "    <tr>\n",
       "      <th>3</th>\n",
       "      <td>|Books[283155]|Subjects[1000]|Religion &amp; Sp...</td>\n",
       "      <td>5</td>\n",
       "      <td>2</td>\n",
       "      <td>Candlemas: Feast of Flames</td>\n",
       "    </tr>\n",
       "    <tr>\n",
       "      <th>4</th>\n",
       "      <td>|Books[283155]|Subjects[1000]|Home &amp; Garden...</td>\n",
       "      <td>5</td>\n",
       "      <td>3</td>\n",
       "      <td>World War II Allied Fighter Planes Trading Cards</td>\n",
       "    </tr>\n",
       "  </tbody>\n",
       "</table>\n",
       "</div>"
      ],
      "text/plain": [
       "                                            category  category_depth  id  \\\n",
       "0     |Books[283155]|Subjects[1000]|Religion & Sp...               6   1   \n",
       "1     |Books[283155]|Subjects[1000]|Religion & Sp...               6   1   \n",
       "2     |Books[283155]|Subjects[1000]|Religion & Sp...               5   2   \n",
       "3     |Books[283155]|Subjects[1000]|Religion & Sp...               5   2   \n",
       "4     |Books[283155]|Subjects[1000]|Home & Garden...               5   3   \n",
       "\n",
       "                                              title  \n",
       "0           Patterns of Preaching: A Sermon Sampler  \n",
       "1           Patterns of Preaching: A Sermon Sampler  \n",
       "2                        Candlemas: Feast of Flames  \n",
       "3                        Candlemas: Feast of Flames  \n",
       "4  World War II Allied Fighter Planes Trading Cards  "
      ]
     },
     "execution_count": 82,
     "metadata": {},
     "output_type": "execute_result"
    }
   ],
   "source": [
    "books_categories = {'id': [], 'title': [], 'category_depth': [], 'category': []}\n",
    "\n",
    "with open('amazon-meta.txt', 'r', encoding='utf-8') as f:\n",
    "    for line in f:\n",
    "        if line.startswith('Id'):\n",
    "            product_id = line.split()[1]\n",
    "        elif line.startswith('  title'):\n",
    "            pret, title = line.split(':', maxsplit=1)\n",
    "            title = title.strip()\n",
    "        elif line.startswith('  group'):\n",
    "            group = line.split()[1]\n",
    "        elif line.startswith('   |') and group=='Book':\n",
    "            books_categories['id'].append(int(product_id))\n",
    "            books_categories['title'].append(title)\n",
    "            num_categ = line.split(\"|\")[1:]\n",
    "            books_categories['category_depth'].append(int(len(num_categ)))\n",
    "            books_categories['category'].append(line)\n",
    "df_books = pd.DataFrame.from_dict(books_categories)\n",
    "df_books.head()"
   ]
  },
  {
   "cell_type": "code",
   "execution_count": 71,
   "metadata": {},
   "outputs": [
    {
     "data": {
      "text/plain": [
       "(1440329, 4)"
      ]
     },
     "execution_count": 71,
     "metadata": {},
     "output_type": "execute_result"
    }
   ],
   "source": [
    "df_books.shape"
   ]
  },
  {
   "cell_type": "markdown",
   "metadata": {},
   "source": [
    "There are 1440329 non-unique categories for books. Let's look at the unique categories."
   ]
  },
  {
   "cell_type": "code",
   "execution_count": 103,
   "metadata": {},
   "outputs": [
    {
     "data": {
      "text/plain": [
       "12853"
      ]
     },
     "execution_count": 103,
     "metadata": {},
     "output_type": "execute_result"
    }
   ],
   "source": [
    "df_books['category'].unique().shape[0]"
   ]
  },
  {
   "cell_type": "markdown",
   "metadata": {},
   "source": [
    "There are 12853 unique categories for books alone."
   ]
  },
  {
   "cell_type": "code",
   "execution_count": 84,
   "metadata": {},
   "outputs": [
    {
     "data": {
      "text/html": [
       "<div>\n",
       "<style>\n",
       "    .dataframe thead tr:only-child th {\n",
       "        text-align: right;\n",
       "    }\n",
       "\n",
       "    .dataframe thead th {\n",
       "        text-align: left;\n",
       "    }\n",
       "\n",
       "    .dataframe tbody tr th {\n",
       "        vertical-align: top;\n",
       "    }\n",
       "</style>\n",
       "<table border=\"1\" class=\"dataframe\">\n",
       "  <thead>\n",
       "    <tr style=\"text-align: right;\">\n",
       "      <th></th>\n",
       "      <th>index</th>\n",
       "      <th>category</th>\n",
       "      <th>0</th>\n",
       "    </tr>\n",
       "  </thead>\n",
       "  <tbody>\n",
       "    <tr>\n",
       "      <th>0</th>\n",
       "      <td>11878</td>\n",
       "      <td>|[265523]|Amazon.com Stores[285080]|Home &amp; ...</td>\n",
       "      <td>18438</td>\n",
       "    </tr>\n",
       "    <tr>\n",
       "      <th>1</th>\n",
       "      <td>1877</td>\n",
       "      <td>|Books[283155]|Subjects[1000]|Business &amp; In...</td>\n",
       "      <td>18436</td>\n",
       "    </tr>\n",
       "    <tr>\n",
       "      <th>2</th>\n",
       "      <td>8668</td>\n",
       "      <td>|Books[283155]|Subjects[1000]|Reference[21]...</td>\n",
       "      <td>13701</td>\n",
       "    </tr>\n",
       "    <tr>\n",
       "      <th>3</th>\n",
       "      <td>1605</td>\n",
       "      <td>|Books[283155]|Subjects[1000]|Biographies &amp;...</td>\n",
       "      <td>12241</td>\n",
       "    </tr>\n",
       "    <tr>\n",
       "      <th>4</th>\n",
       "      <td>7829</td>\n",
       "      <td>|Books[283155]|Subjects[1000]|Nonfiction[53...</td>\n",
       "      <td>11779</td>\n",
       "    </tr>\n",
       "  </tbody>\n",
       "</table>\n",
       "</div>"
      ],
      "text/plain": [
       "   index                                           category      0\n",
       "0  11878     |[265523]|Amazon.com Stores[285080]|Home & ...  18438\n",
       "1   1877     |Books[283155]|Subjects[1000]|Business & In...  18436\n",
       "2   8668     |Books[283155]|Subjects[1000]|Reference[21]...  13701\n",
       "3   1605     |Books[283155]|Subjects[1000]|Biographies &...  12241\n",
       "4   7829     |Books[283155]|Subjects[1000]|Nonfiction[53...  11779"
      ]
     },
     "execution_count": 84,
     "metadata": {},
     "output_type": "execute_result"
    }
   ],
   "source": [
    "unique_categories = df_books.groupby(['category']).size().reset_index().sort_values(0,ascending=False).reset_index()\n",
    "unique_categories.head()"
   ]
  },
  {
   "cell_type": "code",
   "execution_count": 98,
   "metadata": {},
   "outputs": [],
   "source": [
    "unique_categories.rename(index=str,columns={0:'count'},inplace=True)"
   ]
  },
  {
   "cell_type": "code",
   "execution_count": 107,
   "metadata": {},
   "outputs": [
    {
     "name": "stdout",
     "output_type": "stream",
     "text": [
      "Number of rare-item categories: 10324\n"
     ]
    }
   ],
   "source": [
    "min_items = 100\n",
    "rare_items = [v for v in unique_categories['count'] if v < min_items]\n",
    "print('Number of rare-item categories: {}'.format(len(rare_items)))"
   ]
  },
  {
   "cell_type": "code",
   "execution_count": 109,
   "metadata": {},
   "outputs": [
    {
     "name": "stdout",
     "output_type": "stream",
     "text": [
      "0.8032365984595036\n"
     ]
    }
   ],
   "source": [
    "print(len(rare_items)/df_books['category'].unique().shape[0])"
   ]
  },
  {
   "cell_type": "markdown",
   "metadata": {},
   "source": [
    "Removing or categorizing into rare item category would decrease the unique categories by 80%."
   ]
  },
  {
   "cell_type": "markdown",
   "metadata": {},
   "source": [
    "**B. (Suggested duration: 30 mins)**\n",
    "Give the number crunching a rest! Just think about these problems.\n",
    "1. Algorithm thinking\n",
    "How would build the product categorization from scratch, using similar/co-purchased\n",
    "information?\n",
    "2. Product thinking\n",
    "Now, put on your 'product thinking' hat.\n",
    "a. Is it a good idea to show users the categorization hierarchy for items?\n",
    "b. Is it a good idea to show users similar/co-purchased items?\n",
    "c. Is it a good idea to show users reviews and ratings for items?\n",
    "d. For each of the above, why? How will you establish the same?"
   ]
  },
  {
   "cell_type": "markdown",
   "metadata": {},
   "source": [
    "*We can start by clustering similar/co-purchased items. We can define some measurement of closeness between similar items, and merging/clustering is performed based on the value of closeness. We then evaluate the closeness with the next item and decide to merge or not. This hierarchical clustering represents categorization from specific to broad categories.*"
   ]
  },
  {
   "cell_type": "markdown",
   "metadata": {},
   "source": [
    "*I believe people usually start shopping (especially online) with something specific. They do not start with hierarchical categories which a lot of times can be confusing. Two similar products (with slight difference) can be categorized under two completely different categories. It is good idea to use similar/co-purchased items (the famous \"people who bought this bought those items\" also recommendation) since it lets people explore items they would be interested in. Reviews and ratings are ok (if we know how to use them) especially when they are accompanied by rating of the reviewer by peer reviewers (helpfulness rating).*"
   ]
  }
 ],
 "metadata": {
  "kernelspec": {
   "display_name": "Python 3",
   "language": "python",
   "name": "python3"
  },
  "language_info": {
   "codemirror_mode": {
    "name": "ipython",
    "version": 3
   },
   "file_extension": ".py",
   "mimetype": "text/x-python",
   "name": "python",
   "nbconvert_exporter": "python",
   "pygments_lexer": "ipython3",
   "version": "3.6.2"
  }
 },
 "nbformat": 4,
 "nbformat_minor": 2
}
